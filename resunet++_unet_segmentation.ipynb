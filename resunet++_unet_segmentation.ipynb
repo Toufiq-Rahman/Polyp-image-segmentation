{
  "cells": [
    {
      "cell_type": "code",
      "execution_count": null,
      "metadata": {
        "colab": {
          "background_save": true,
          "base_uri": "https://localhost:8080/",
          "height": 36
        },
        "id": "cpbikQa-27Ty",
        "outputId": "b6ba0e0f-72b2-47ac-b121-e024d6ade388"
      },
      "outputs": [
        {
          "data": {
            "application/vnd.google.colaboratory.intrinsic+json": {
              "type": "string"
            },
            "text/plain": [
              "'Tesla T4'"
            ]
          },
          "execution_count": 1,
          "metadata": {},
          "output_type": "execute_result"
        }
      ],
      "source": [
        "import torch\n",
        "torch.cuda.current_device()\n",
        "torch.cuda.get_device_name(0)"
      ]
    },
    {
      "cell_type": "code",
      "execution_count": null,
      "metadata": {
        "colab": {
          "base_uri": "https://localhost:8080/"
        },
        "id": "vYpv-fyA287B",
        "outputId": "29084a36-711b-4c0c-a543-28fdbcc61fa6"
      },
      "outputs": [
        {
          "name": "stdout",
          "output_type": "stream",
          "text": [
            "2.9.2\n",
            "Mounted at /content/drive\n"
          ]
        }
      ],
      "source": [
        "import tensorflow as tf\n",
        "import numpy as np\n",
        "import scipy.io\n",
        "from scipy.io import loadmat\n",
        "from tensorflow.keras.layers import *\n",
        "from tensorflow.keras.models import *\n",
        "from tensorflow.keras import backend as K\n",
        "from tensorflow.keras import regularizers\n",
        "from  IPython import display\n",
        "from matplotlib import pyplot as plt\n",
        "from google.colab import files\n",
        "import shutil\n",
        "import os\n",
        "\n",
        "print(tf.__version__)\n",
        "\n",
        "from google.colab import drive\n",
        "drive.mount('/content/drive')"
      ]
    },
    {
      "cell_type": "code",
      "execution_count": null,
      "metadata": {
        "id": "t4Om8iiF8C6I"
      },
      "outputs": [],
      "source": [
        "import numpy as np\n",
        "import pandas as pd\n",
        "import matplotlib.pyplot as plt\n",
        "import os\n",
        "import cv2\n",
        "from PIL import Image\n",
        "import keras\n"
      ]
    },
    {
      "cell_type": "code",
      "execution_count": null,
      "metadata": {
        "id": "hWVo5J_V3ipn"
      },
      "outputs": [],
      "source": [
        "!cp /content/drive/MyDrive/dip_project/ResUNetPlusPlus-master/process_image.py ."
      ]
    },
    {
      "cell_type": "code",
      "execution_count": null,
      "metadata": {
        "colab": {
          "base_uri": "https://localhost:8080/"
        },
        "id": "9_q0rG006nCx",
        "outputId": "6eeefe0a-49ff-47e0-b99a-014fe488e09b"
      },
      "outputs": [
        {
          "name": "stdout",
          "output_type": "stream",
          "text": [
            "Total Size:  1000\n",
            "Training Size:  800\n",
            "Validation Size:  100\n",
            "Testing Size:  100\n",
            "100% 100/100 [00:02<00:00, 41.92it/s]\n",
            "100% 100/100 [00:02<00:00, 42.38it/s]\n",
            " 92% 739/800 [13:51<01:10,  1.15s/it]"
          ]
        }
      ],
      "source": [
        "!python /content/drive/MyDrive/dip_project/ResUNetPlusPlus-master/process_image.py"
      ]
    },
    {
      "cell_type": "code",
      "execution_count": null,
      "metadata": {
        "id": "t-I6ZM9S_THo"
      },
      "outputs": [],
      "source": []
    },
    {
      "cell_type": "code",
      "execution_count": null,
      "metadata": {
        "id": "uVm3SjsSHbHQ"
      },
      "outputs": [],
      "source": []
    },
    {
      "cell_type": "code",
      "execution_count": null,
      "metadata": {
        "id": "2kBVs97yFD_8"
      },
      "outputs": [],
      "source": [
        "# !zip -r /content/new_data/kvasir_segmentation_dataset/valid.zip /content/new_data/kvasir_segmentation_dataset/"
      ]
    },
    {
      "cell_type": "code",
      "execution_count": null,
      "metadata": {
        "id": "xKCUC3JrPjK5"
      },
      "outputs": [],
      "source": [
        "!cp /content/drive/MyDrive/dip_project/ResUNetPlusPlus-master/unet.py .\n",
        "!python /content/unet.py"
      ]
    },
    {
      "cell_type": "code",
      "execution_count": null,
      "metadata": {
        "colab": {
          "base_uri": "https://localhost:8080/",
          "height": 17
        },
        "id": "SAbyzr27Rilg",
        "outputId": "e80885fa-2b18-40d9-838a-b3f362b91295"
      },
      "outputs": [
        {
          "data": {
            "application/javascript": [
              "\n",
              "      ((filepath) => {{\n",
              "        if (!google.colab.kernel.accessAllowed) {{\n",
              "          return;\n",
              "        }}\n",
              "        google.colab.files.view(filepath);\n",
              "      }})(\"/content/drive/MyDrive/dip_project/ResUNetPlusPlus-master/run.py\")"
            ],
            "text/plain": [
              "<IPython.core.display.Javascript object>"
            ]
          },
          "metadata": {},
          "output_type": "display_data"
        }
      ],
      "source": [
        "from google.colab import files\n",
        "files.view('/content/drive/MyDrive/dip_project/ResUNetPlusPlus-master/run.py')"
      ]
    },
    {
      "cell_type": "code",
      "execution_count": null,
      "metadata": {
        "id": "ZcX1mP44Sxrn"
      },
      "outputs": [],
      "source": [
        "!cp /content/drive/MyDrive/dip_project/ResUNetPlusPlus-master/data_generator.py .\n",
        "!python /content/data_generator.py\n",
        "!cp /content/drive/MyDrive/dip_project/ResUNetPlusPlus-master/metrics.py .\n",
        "!python /content/metrics.py"
      ]
    },
    {
      "cell_type": "code",
      "execution_count": null,
      "metadata": {
        "id": "DnNN7OhScZF6"
      },
      "outputs": [],
      "source": [
        "!python data_generator.py"
      ]
    },
    {
      "cell_type": "code",
      "execution_count": null,
      "metadata": {
        "id": "uISd4HTqYnDq"
      },
      "outputs": [],
      "source": []
    },
    {
      "cell_type": "code",
      "execution_count": null,
      "metadata": {
        "id": "31ayITFlQoue"
      },
      "outputs": [],
      "source": [
        "!cp /content/drive/MyDrive/dip_project/ResUNetPlusPlus-master/run.py .\n"
      ]
    },
    {
      "cell_type": "code",
      "execution_count": null,
      "metadata": {
        "colab": {
          "base_uri": "https://localhost:8080/"
        },
        "id": "smJwgJYPaawc",
        "outputId": "a7346682-9ac6-453b-f47c-06567dee1801"
      },
      "outputs": [
        {
          "name": "stdout",
          "output_type": "stream",
          "text": [
            "2022-10-12 18:44:36.914805: W tensorflow/core/common_runtime/gpu/gpu_bfc_allocator.cc:39] Overriding allow_growth setting because the TF_FORCE_GPU_ALLOW_GROWTH environment variable is set. Original config value was 0.\n",
            "run.py:86: UserWarning: `Model.fit_generator` is deprecated and will be removed in a future version. Please use `Model.fit`, which supports generators.\n",
            "  callbacks=callbacks)\n",
            "Epoch 1/20\n",
            " 24/250 [=>............................] - ETA: 44:00 - loss: 0.7371 - recall: 0.5553 - precision: 0.2418 - dice_coef: 0.2629 - mean_io_u: 0.4206^C\n"
          ]
        }
      ],
      "source": [
        "!python run.py"
      ]
    },
    {
      "cell_type": "code",
      "execution_count": null,
      "metadata": {
        "id": "rEgFygDt_UYw"
      },
      "outputs": [],
      "source": [
        "import os\n",
        "import numpy as np\n",
        "import cv2\n",
        "from glob import glob\n",
        "import tensorflow as tf\n",
        "from tensorflow.keras.metrics import Precision, Recall, MeanIoU\n",
        "from tensorflow.keras.optimizers import Adam, Nadam, SGD\n",
        "from tensorflow.keras.callbacks import EarlyStopping, ModelCheckpoint, ReduceLROnPlateau, CSVLogger\n",
        "\n",
        "from data_generator import DataGen\n",
        "from unet import Unet\n",
        "# from resunet import ResUnet\n",
        "# from m_resunet import ResUnetPlusPlus\n",
        "from metrics import dice_coef, dice_loss"
      ]
    },
    {
      "cell_type": "code",
      "execution_count": null,
      "metadata": {
        "id": "n3pdRvK5_Vt5"
      },
      "outputs": [],
      "source": [
        "file_path = \"/content/drive/MyDrive/dip_project/ResUNetPlusPlus-master/files/\"\n",
        "model_path = \"/content/drive/MyDrive/dip_project/ResUNetPlusPlus-master/files/unet_try1.h5\"\n",
        "\n",
        "## Create files folder\n",
        "try:\n",
        "    os.mkdir(\"/content/drive/MyDrive/dip_project/ResUNetPlusPlus-master/files\")\n",
        "except:\n",
        "    pass\n",
        "\n",
        "train_path = \"/content/drive/MyDrive/dip_project/ResUNetPlusPlus-master/new_data/kvasir_segmentation_dataset/train/\"\n",
        "valid_path = \"/content/drive/MyDrive/dip_project/ResUNetPlusPlus-master/new_data/kvasir_segmentation_dataset/valid/\"\n"
      ]
    },
    {
      "cell_type": "code",
      "execution_count": null,
      "metadata": {
        "id": "8JJfU4bU_gPa"
      },
      "outputs": [],
      "source": [
        "## Training\n",
        "train_image_paths = glob(os.path.join(train_path, \"images\", \"*\"))\n",
        "train_mask_paths = glob(os.path.join(train_path, \"masks\", \"*\"))\n",
        "train_image_paths.sort()\n",
        "train_mask_paths.sort()\n",
        "\n",
        "train_image_paths = train_image_paths[:2000]\n",
        "train_mask_paths = train_mask_paths[:2000]\n",
        "\n",
        "## Validation\n",
        "valid_image_paths = glob(os.path.join(valid_path, \"images\", \"*\"))\n",
        "valid_mask_paths = glob(os.path.join(valid_path, \"masks\", \"*\"))\n",
        "valid_image_paths.sort()\n",
        "valid_mask_paths.sort()"
      ]
    },
    {
      "cell_type": "code",
      "execution_count": null,
      "metadata": {
        "id": "wkcDkjKXBhk2"
      },
      "outputs": [],
      "source": []
    },
    {
      "cell_type": "code",
      "execution_count": null,
      "metadata": {
        "id": "Yc2KB5Et_uOO"
      },
      "outputs": [],
      "source": [
        "## Parameters\n",
        "image_size = 256\n",
        "batch_size = 64\n",
        "lr = 1e-4\n",
        "epochs = 200\n",
        "\n",
        "train_steps = len(train_image_paths)//batch_size\n",
        "valid_steps = len(valid_image_paths)//batch_size\n",
        "\n",
        "## Generator\n",
        "train_gen = DataGen(image_size, train_image_paths, train_mask_paths, batch_size=batch_size)\n",
        "valid_gen = DataGen(image_size, valid_image_paths, valid_mask_paths, batch_size=batch_size)\n"
      ]
    },
    {
      "cell_type": "code",
      "execution_count": null,
      "metadata": {
        "colab": {
          "base_uri": "https://localhost:8080/"
        },
        "id": "G-rEi73xBi6U",
        "outputId": "acbce2df-7a22-4e03-de00-ea1a20283777"
      },
      "outputs": [
        {
          "data": {
            "text/plain": [
              "32"
            ]
          },
          "execution_count": 17,
          "metadata": {},
          "output_type": "execute_result"
        }
      ],
      "source": [
        "len(train_gen)\n",
        "\n"
      ]
    },
    {
      "cell_type": "code",
      "execution_count": null,
      "metadata": {
        "id": "kTz8L8MliSnk"
      },
      "outputs": [],
      "source": [
        "arch = Unet(input_size=image_size)\n",
        "model = arch.build_model()"
      ]
    },
    {
      "cell_type": "code",
      "execution_count": null,
      "metadata": {
        "id": "1DlJYQ40iZj1"
      },
      "outputs": [],
      "source": [
        "model.summary()"
      ]
    },
    {
      "cell_type": "code",
      "execution_count": null,
      "metadata": {
        "id": "VhDwbSaRijGo"
      },
      "outputs": [],
      "source": [
        "optimizer = Nadam(lr)\n",
        "metrics = [Recall(), Precision(), dice_coef, MeanIoU(num_classes=2)]\n",
        "model.compile(loss=dice_loss, optimizer=optimizer, metrics=metrics)\n",
        "\n",
        "csv_logger = CSVLogger(f\"{file_path}unet_{batch_size}.csv\", append=False)\n",
        "checkpoint = ModelCheckpoint(model_path, verbose=1, save_best_only=True)\n",
        "reduce_lr = ReduceLROnPlateau(monitor='val_loss', factor=0.1, patience=5, min_lr=1e-6, verbose=1)\n",
        "early_stopping = EarlyStopping(monitor='val_loss', patience=10, restore_best_weights=False)\n",
        "callbacks = [csv_logger, checkpoint, reduce_lr, early_stopping]\n"
      ]
    },
    {
      "cell_type": "code",
      "execution_count": null,
      "metadata": {
        "id": "QJWIf7Ayiy6f"
      },
      "outputs": [],
      "source": [
        "model.fit_generator(train_gen,\n",
        "            validation_data=valid_gen,\n",
        "            steps_per_epoch=train_steps,\n",
        "            validation_steps=valid_steps,\n",
        "            epochs=epochs,\n",
        "            callbacks=callbacks)\n"
      ]
    },
    {
      "cell_type": "code",
      "execution_count": null,
      "metadata": {
        "id": "AXhh7MGHjR3m"
      },
      "outputs": [],
      "source": [
        "import os\n",
        "import numpy as np\n",
        "import cv2\n",
        "from tensorflow.keras.utils import Sequence\n",
        "\n",
        "\n",
        "def parse_image(img_path, image_size):\n",
        "    image_rgb = cv2.imread(img_path, 1)\n",
        "    h, w, _ = image_rgb.shape\n",
        "    if (h == image_size) and (w == image_size):\n",
        "        pass\n",
        "    else:\n",
        "        image_rgb = cv2.resize(image_rgb, (image_size, image_size))\n",
        "    image_rgb = image_rgb/255.0\n",
        "    return image_rgb\n",
        "\n",
        "def parse_mask(mask_path, image_size):\n",
        "    mask = cv2.imread(mask_path, -1)\n",
        "    h, w = mask.shape\n",
        "    if (h == image_size) and (w == image_size):\n",
        "        pass\n",
        "    else:\n",
        "        mask = cv2.resize(mask, (image_size, image_size))\n",
        "    mask = np.expand_dims(mask, -1)\n",
        "    mask = mask/255.0\n",
        "\n",
        "    return mask\n"
      ]
    },
    {
      "cell_type": "code",
      "execution_count": null,
      "metadata": {
        "id": "QCh0rmBRjtfK"
      },
      "outputs": [],
      "source": [
        "train_path = \"/content/drive/MyDrive/dip_project/ResUNetPlusPlus-master/new_data/kvasir_segmentation_dataset/train/\"\n",
        "test_path = \"/content/drive/MyDrive/dip_project/ResUNetPlusPlus-master/new_data/kvasir_segmentation_dataset/test/\"\n"
      ]
    },
    {
      "cell_type": "code",
      "execution_count": null,
      "metadata": {
        "colab": {
          "base_uri": "https://localhost:8080/"
        },
        "id": "2OhQDzWhkB5F",
        "outputId": "fe62eb86-e04a-4851-98aa-c41e3477eaeb"
      },
      "outputs": [
        {
          "data": {
            "text/plain": [
              "101"
            ]
          },
          "execution_count": 25,
          "metadata": {},
          "output_type": "execute_result"
        }
      ],
      "source": [
        "len(train_path)"
      ]
    },
    {
      "cell_type": "code",
      "execution_count": null,
      "metadata": {
        "colab": {
          "base_uri": "https://localhost:8080/"
        },
        "id": "hLiqqb78rTAp",
        "outputId": "7f985884-d55e-4962-ae8a-857d3de9f68a"
      },
      "outputs": [
        {
          "name": "stderr",
          "output_type": "stream",
          "text": [
            "/usr/local/lib/python3.7/dist-packages/ipykernel_launcher.py:26: DeprecationWarning: `np.bool` is a deprecated alias for the builtin `bool`. To silence this warning, use `bool` by itself. Doing this will not modify any behavior and is safe. If you specifically wanted the numpy scalar type, use `np.bool_` here.\n",
            "Deprecated in NumPy 1.20; for more details and guidance: https://numpy.org/devdocs/release/1.20.0-notes.html#deprecations\n"
          ]
        },
        {
          "name": "stdout",
          "output_type": "stream",
          "text": [
            "Resizing training images and masks\n"
          ]
        }
      ],
      "source": [
        "import tensorflow as tf\n",
        "import os\n",
        "import random\n",
        "import numpy as np\n",
        "\n",
        "from tqdm import tqdm\n",
        "\n",
        "from skimage.io import imread, imshow\n",
        "from skimage.transform import resize\n",
        "import matplotlib.pyplot as plt\n",
        "\n",
        "seed = 42\n",
        "np.random.seed = seed\n",
        "\n",
        "IMG_WIDTH = 128\n",
        "IMG_HEIGHT = 128\n",
        "IMG_CHANNELS = 3\n",
        "\n",
        "train_ids_img = next(os.walk(train_path+'/images/'))[2]\n",
        "train_ids_mask = next(os.walk(train_path+'/masks/'))[2]\n",
        "\n",
        "test_ids_img = next(os.walk(test_path+'/images/'))[2]\n",
        "test_ids_mask = next(os.walk(test_path+'/masks/'))[2]\n",
        "\n",
        "X_train = np.zeros((len(train_ids_img), IMG_HEIGHT, IMG_WIDTH, IMG_CHANNELS), dtype=np.uint8)\n",
        "Y_train = np.zeros((len(train_ids_mask), IMG_HEIGHT, IMG_WIDTH, 1), dtype=np.bool)\n",
        "\n",
        "print('Resizing training images and masks')\n"
      ]
    },
    {
      "cell_type": "code",
      "execution_count": null,
      "metadata": {
        "colab": {
          "base_uri": "https://localhost:8080/"
        },
        "id": "1OttJuhK9Ymj",
        "outputId": "c3e15344-ad96-4abc-a6e3-d22956a9b973"
      },
      "outputs": [
        {
          "data": {
            "text/plain": [
              "100"
            ]
          },
          "execution_count": 8,
          "metadata": {},
          "output_type": "execute_result"
        }
      ],
      "source": [
        "len(test_ids_img)\n"
      ]
    },
    {
      "cell_type": "code",
      "execution_count": null,
      "metadata": {
        "id": "lKteHcovsDoH"
      },
      "outputs": [],
      "source": [
        "print('Resizing training images and masks')\n",
        "\n",
        "for n, id_ in tqdm(enumerate(train_ids_img), total=len(train_ids_img)):\n",
        "    path = train_path\n",
        "    img = imread(path + '/images/' + id_ )[:,:,:IMG_CHANNELS]\n",
        "    img = resize(img, (IMG_HEIGHT, IMG_WIDTH), mode='constant', preserve_range=True)\n",
        "    X_train[n] = img  #Fill empty X_train with values from img\n",
        "\n",
        "for n, id_ in tqdm(enumerate(train_ids_mask), total=len(train_ids_mask)):\n",
        "    path = train_path\n",
        "    mask = np.zeros((IMG_HEIGHT, IMG_WIDTH, 1), dtype=np.bool)\n",
        "    mask_ = imread(path + '/masks/' + id_ )\n",
        "    mask_ = np.expand_dims(resize(mask_, (IMG_HEIGHT, IMG_WIDTH), mode='constant',\n",
        "                                      preserve_range=True), axis=-1)\n",
        "    mask = np.maximum(mask, mask_)\n",
        "    Y_train[n] = mask"
      ]
    },
    {
      "cell_type": "code",
      "execution_count": null,
      "metadata": {
        "id": "r77hjJU6E329"
      },
      "outputs": [],
      "source": []
    }
  ],
  "metadata": {
    "accelerator": "GPU",
    "colab": {
      "provenance": []
    },
    "kernelspec": {
      "display_name": "Python 3",
      "name": "python3"
    },
    "language_info": {
      "name": "python"
    }
  },
  "nbformat": 4,
  "nbformat_minor": 0
}